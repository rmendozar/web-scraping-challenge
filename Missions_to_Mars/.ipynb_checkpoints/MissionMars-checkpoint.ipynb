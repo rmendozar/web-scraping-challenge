{
 "cells": [
  {
   "cell_type": "code",
   "execution_count": 1,
   "metadata": {},
   "outputs": [],
   "source": [
    "from splinter import Browser\n",
    "from bs4 import BeautifulSoup as bs\n",
    "import time\n",
    "import re\n",
    "\n",
    "def init_browser():\n",
    "    # @NOTE: Replace the path with your actual path to the chromedriver\n",
    "    executable_path = {\"executable_path\": \"/usr/local/bin/chromedriver\"}\n",
    "    return Browser(\"chrome\", **executable_path, headless=False)\n",
    "\n",
    "def scrap_mars():\n",
    "    browser = init_browser()\n",
    "    hemisphere =[]\n",
    "    hemisphere_list=['Cerberus','Schiaparelli','Syrtis','Valles']\n",
    "    for hemi in hemisphere_list:\n",
    "        hemispheres={}\n",
    "        url = 'https://astrogeology.usgs.gov/search/results?q=hemisphere+enhanced&k1=target&v1=Mars'\n",
    "        browser.visit(url)\n",
    "        html = browser.html\n",
    "        soup = bs(html,'html.parser')\n",
    "        browser.click_link_by_partial_text(hemi)\n",
    "        html = browser.html\n",
    "        soup = bs(html,'html.parser')\n",
    "        hemispheres['image']=soup.find('a',target=\"_blank\")['href']\n",
    "        hemispheres['title']=soup.find('h2',class_=\"title\").text\n",
    "        hemisphere.append(hemispheres)\n",
    "    browser.quit()\n",
    "    \n",
    "    browser = init_browser()\n",
    "\n",
    "    # Visit mars\n",
    "    url = \"https://mars.nasa.gov/news/?page=0&per_page=40&order=publish_date+desc%2Ccreated_at+desc&search=&category=19%2C165%2C184%2C204&blank_scope=Latest\"\n",
    "    browser.visit(url)\n",
    "    time.sleep(1)\n",
    "    html = browser.html\n",
    "    soup = bs(html, \"html.parser\")\n",
    "\n",
    "    news_title = soup.findAll(\"div\",{\"class\":\"content_title\"})[0].text.strip(' \\t\\n')\n",
    "    news_p = soup.findAll(\"div\",{\"class\":\"rollover_description\"})[0].text.strip(' \\t\\n')\n",
    "    nasaData = {\n",
    "        \"news_title\": news_title,\n",
    "        \"news_teaser\": news_p\n",
    "    }\n",
    "    \n",
    "    browser.quit()\n",
    "    \n",
    "    browser = init_browser()\n",
    "    url = \"https://twitter.com/marswxreport?lang=en\"\n",
    "    browser.visit(url)\n",
    "    time.sleep(1)\n",
    "    html = browser.html\n",
    "    soup = bs(html, \"html.parser\")\n",
    "\n",
    "    mars_weather = soup.find(\"div\",{\"class\":\"js-tweet-text-container\"}).p.text\n",
    "    mars_weather_clean = re.sub(r'(\\s+|\\n+|InSight|pic.twitter.com/J9DKptw2oo)', ' ', mars_weather)\n",
    "    \n",
    "    browser.quit()\n",
    "    \n",
    "    browser = init_browser()\n",
    "    \n",
    "    url_base = \"https://www.jpl.nasa.gov\"\n",
    "    url = \"https://www.jpl.nasa.gov/spaceimages/?search=&category=Mars\"\n",
    "    browser.visit(url)\n",
    "    time.sleep(1)\n",
    "    html = browser.html\n",
    "    soup = bs(html, \"html.parser\")\n",
    "\n",
    "    feature_mars = soup.find(\"div\",{\"class\":\"carousel_items\"})\n",
    "    relative_feature_image = feature_mars.a[\"data-fancybox-href\"]\n",
    "    feature_image = url_base + relative_feature_image\n",
    "    feature_image_description = feature_mars.a[\"data-description\"].strip('\\r\\t\\n')\n",
    "    feature_image_title = feature_mars.h1.text.strip('\\r\\t\\n')\n",
    "\n",
    "    marsData = {\n",
    "        \"feature_image\": feature_image,\n",
    "        \"feature_image_title\": feature_image_title,\n",
    "        \"feature_image_description\": feature_image_description\n",
    "    }\n",
    "    \n",
    "    browser.quit()\n",
    "    \n",
    "    dataPage = [{\"hemisphere\":hemisphere,\"nasaData\":nasaData,\"weatherData\":mars_weather_clean,\"featuredImage\":marsData}]\n",
    "    return dataPage\n",
    "\n"
   ]
  },
  {
   "cell_type": "code",
   "execution_count": 2,
   "metadata": {},
   "outputs": [
    {
     "data": {
      "text/plain": [
       "[{'hemisphere': [{'image': 'http://astropedia.astrogeology.usgs.gov/download/Mars/Viking/cerberus_enhanced.tif/full.jpg',\n",
       "    'title': 'Cerberus Hemisphere Enhanced'},\n",
       "   {'image': 'http://astropedia.astrogeology.usgs.gov/download/Mars/Viking/schiaparelli_enhanced.tif/full.jpg',\n",
       "    'title': 'Schiaparelli Hemisphere Enhanced'},\n",
       "   {'image': 'http://astropedia.astrogeology.usgs.gov/download/Mars/Viking/syrtis_major_enhanced.tif/full.jpg',\n",
       "    'title': 'Syrtis Major Hemisphere Enhanced'},\n",
       "   {'image': 'http://astropedia.astrogeology.usgs.gov/download/Mars/Viking/valles_marineris_enhanced.tif/full.jpg',\n",
       "    'title': 'Valles Marineris Hemisphere Enhanced'}],\n",
       "  'nasaData': {'news_title': \"NASA's Treasure Map for Water Ice on Mars\",\n",
       "   'news_teaser': 'A new study identifies frozen water just below the Martian surface, where astronauts could easily dig it up.'},\n",
       "  'weatherData': '  sol 375 (2019-12-16) low -97.5ºC (-143.6ºF) high -19.8ºC (-3.6ºF) winds from the SW at 5.6 m/s (12.5 mph) gusting to 22.1 m/s (49.4 mph) pressure at 6.50 hPapic.twitter.com/XDE4ZXpe6N',\n",
       "  'featuredImage': {'feature_image': 'https://www.jpl.nasa.gov/spaceimages/images/mediumsize/PIA20464_ip.jpg',\n",
       "   'feature_image_title': \"  Pluto's Mysterious, Floating Hills\",\n",
       "   'feature_image_description': \"NASA's New Horizons spacecraft took this image of Pluto's vast nitrogen ice plain informally named Sputnik Planum.\"}}]"
      ]
     },
     "execution_count": 2,
     "metadata": {},
     "output_type": "execute_result"
    }
   ],
   "source": [
    "scrap_mars()"
   ]
  },
  {
   "cell_type": "code",
   "execution_count": 3,
   "metadata": {},
   "outputs": [
    {
     "data": {
      "text/plain": [
       "'<table border=\"1\" class=\"dataframe\"> <tbody> <tr> <td>Equatorial Diameter:</td> <td>6,792 km</td> </tr> <tr> <td>Polar Diameter:</td> <td>6,752 km</td> </tr> <tr> <td>Mass:</td> <td>6.39 × 10^23 kg (0.11 Earths)</td> </tr> <tr> <td>Moons:</td> <td>2 (Phobos &amp; Deimos)</td> </tr> <tr> <td>Orbit Distance:</td> <td>227,943,824 km (1.38 AU)</td> </tr> <tr> <td>Orbit Period:</td> <td>687 days (1.9 years)</td> </tr> <tr> <td>Surface Temperature:</td> <td>-87 to -5 °C</td> </tr> <tr> <td>First Record:</td> <td>2nd millennium BC</td> </tr> <tr> <td>Recorded By:</td> <td>Egyptian astronomers</td> </tr> </tbody> </table>'"
      ]
     },
     "execution_count": 3,
     "metadata": {},
     "output_type": "execute_result"
    }
   ],
   "source": [
    "from urllib.request import urlopen as uReq\n",
    "from bs4 import BeautifulSoup as bs\n",
    "import time\n",
    "import re\n",
    "\n",
    "url = \"https://space-facts.com/mars/\"\n",
    "uClient = uReq(url)\n",
    "html = uClient.read()\n",
    "uClient.close()\n",
    "\n",
    "soup = bs(html, \"html.parser\")\n",
    "\n",
    "table_facts = soup.find(\"table\",{\"class\":\"tablepress\"})\n",
    "rows = table_facts.findAll(\"td\")\n",
    "\n",
    "data = []\n",
    "for row in rows:\n",
    "    name=row.text\n",
    "    data.append(name)\n",
    "    \n",
    "title = [] \n",
    "value = [] \n",
    "for i in range(0, len(data)): \n",
    "    if i % 2: \n",
    "        value.append(data[i]) \n",
    "    else : \n",
    "        title.append(data[i]) \n",
    "dict_data = {\"title\":title,\"value\":value}\n",
    "import pandas as pd\n",
    "data_df = pd.DataFrame.from_dict(dict_data)\n",
    "html_table=data_df.to_html(header=False, index=False, table_id=None)\n",
    "html_table = re.sub(r'(\\s+|\\n)', ' ', html_table)\n",
    "html_table"
   ]
  }
 ],
 "metadata": {
  "kernelspec": {
   "display_name": "Python 3",
   "language": "python",
   "name": "python3"
  },
  "language_info": {
   "codemirror_mode": {
    "name": "ipython",
    "version": 3
   },
   "file_extension": ".py",
   "mimetype": "text/x-python",
   "name": "python",
   "nbconvert_exporter": "python",
   "pygments_lexer": "ipython3",
   "version": "3.6.9"
  }
 },
 "nbformat": 4,
 "nbformat_minor": 2
}
