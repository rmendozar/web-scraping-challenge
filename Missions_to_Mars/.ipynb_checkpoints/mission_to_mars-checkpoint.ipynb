{
 "cells": [
  {
   "cell_type": "code",
   "execution_count": 262,
   "metadata": {},
   "outputs": [],
   "source": [
    "from urllib.request import urlopen as uReq\n",
    "from bs4 import BeautifulSoup as bs\n",
    "import time\n",
    "url_base = \"https://mars.nasa.gov/\"\n",
    "url = \"https://mars.nasa.gov/news/?page=0&per_page=40&order=publish_date+desc%2Ccreated_at+desc&search=&category=19%2C165%2C184%2C204&blank_scope=Latest\"\n",
    "uClient = uReq(url)\n",
    "html = uClient.read()\n",
    "uClient.close()\n",
    "\n",
    "soup = bs(html, \"html.parser\")\n",
    "\n",
    "news_title = soup.findAll(\"div\",{\"class\":\"content_title\"})\n",
    "news_p = soup.findAll(\"div\",{\"class\":\"rollover_description\"})\n",
    "image = soup.findAll(\"img\")\n",
    "relative_image_path = image[2][\"data-lazy\"]\n",
    "sloth_img = url_base + relative_image_path\n",
    "nasaData = {\n",
    "    \"sloth_img\": sloth_img,\n",
    "    \"news_title\": news_title[0].text.strip(' \\t\\n'),\n",
    "    \"news_teaser\": news_p[0].text.strip(' \\t\\n')\n",
    "}\n",
    "\n",
    "\n"
   ]
  },
  {
   "cell_type": "code",
   "execution_count": 264,
   "metadata": {
    "scrolled": true
   },
   "outputs": [
    {
     "data": {
      "text/plain": [
       "[<img alt=\"\" class=\"print_only print_logo\" src=\"/assets/logo_mars_trio_black@2x.png\"/>,\n",
       " <img alt=\"More\" src=\"/assets/overlay-arrow.png\"/>,\n",
       " <img alt=\"NASA Invites Students to Name Mars 2020 Rover\" class=\"img-lazy\" data-lazy=\"/system/news_items/list_view_images/8508_Name_A_unannotated_MAIN-th.jpg\" src=\"/assets/loading_320x240.png\"/>,\n",
       " <img alt=\"More\" src=\"/assets/overlay-arrow.png\"/>,\n",
       " <img alt=\"NASA's Curiosity Mars Rover Finds a Clay Cache\" class=\"img-lazy\" data-lazy=\"/system/news_items/list_view_images/8442_PIA23240_32x24.jpg\" src=\"/assets/loading_320x240.png\"/>,\n",
       " <img alt=\"More\" src=\"/assets/overlay-arrow.png\"/>,\n",
       " <img alt=\"Why This Martian Full Moon Looks Like Candy\" class=\"img-lazy\" data-lazy=\"/system/news_items/list_view_images/8436_PIA23205_annotated-32x24.jpg\" src=\"/assets/loading_320x240.png\"/>,\n",
       " <img alt=\"More\" src=\"/assets/overlay-arrow.png\"/>,\n",
       " <img alt=\"NASA Garners 7 Webby Award Nominations\" class=\"img-lazy\" data-lazy=\"/system/news_items/list_view_images/8426_Webby2019-320x240.jpg\" src=\"/assets/loading_320x240.png\"/>,\n",
       " <img alt=\"More\" src=\"/assets/overlay-arrow.png\"/>,\n",
       " <img alt=\"NASA's Opportunity Rover Mission on Mars Comes to End\" class=\"img-lazy\" data-lazy=\"/system/news_items/list_view_images/8413_PIA06739-320x240.jpg\" src=\"/assets/loading_320x240.png\"/>,\n",
       " <img alt=\"More\" src=\"/assets/overlay-arrow.png\"/>,\n",
       " <img alt=\"NASA's InSight Places First Instrument on Mars\" class=\"img-lazy\" data-lazy=\"/system/news_items/list_view_images/8402_PIA22977_SEIS_deploy_IDC_calibrated-th.gif\" src=\"/assets/loading_320x240.png\"/>,\n",
       " <img alt=\"twitter\" src=\"/assets/twitter_icon@2x.png\"/>,\n",
       " <img alt=\"facebook\" src=\"/assets/facebook_icon@2x.png\"/>,\n",
       " <img alt=\"instagram\" src=\"/assets/instagram_icon@2x.png\"/>,\n",
       " <img alt=\"rss\" src=\"/assets/rss_icon@2x.png\"/>]"
      ]
     },
     "execution_count": 264,
     "metadata": {},
     "output_type": "execute_result"
    }
   ],
   "source": [
    "image"
   ]
  },
  {
   "cell_type": "code",
   "execution_count": 159,
   "metadata": {},
   "outputs": [],
   "source": [
    "from urllib.request import urlopen as uReq\n",
    "from bs4 import BeautifulSoup as bs\n",
    "import time\n",
    "url_base = \"https://www.jpl.nasa.gov\"\n",
    "url = \"https://www.jpl.nasa.gov/spaceimages/?search=&category=Mars\"\n",
    "uClient = uReq(url)\n",
    "html = uClient.read()\n",
    "uClient.close()\n",
    "\n",
    "soup = bs(html, \"html.parser\")\n",
    "\n",
    "feature_mars = soup.find(\"div\",{\"class\":\"carousel_items\"})\n",
    "relative_feature_image = feature_mars.a[\"data-fancybox-href\"]\n",
    "feature_image = url_base + relative_feature_image\n",
    "feature_image_description = feature_mars.a[\"data-description\"].strip('\\r\\t\\n')\n",
    "feature_image_title = feature_mars.h1.text.strip('\\r\\t\\n')\n",
    "\n",
    "marsData = {\n",
    "    \"feature_image\": feature_image,\n",
    "    \"feature_image_title\": feature_image_title,\n",
    "    \"feature_image_description\": feature_image_description\n",
    "}"
   ]
  },
  {
   "cell_type": "code",
   "execution_count": 160,
   "metadata": {
    "scrolled": false
   },
   "outputs": [
    {
     "data": {
      "text/plain": [
       "{'feature_image': 'https://www.jpl.nasa.gov/spaceimages/images/mediumsize/PIA19673_ip.jpg',\n",
       " 'feature_image_title': '  Spectral Signals Indicating Impact Glass on Mars',\n",
       " 'feature_image_description': \"Researchers have found deposits of impact glass preserved in Martian craters, including Alga Crater, shown here. The detection is based on data from the Compact Reconnaissance Imaging Spectrometer for Mars (CRISM) on NASA's Mars Reconnaissance Orbiter.\"}"
      ]
     },
     "execution_count": 160,
     "metadata": {},
     "output_type": "execute_result"
    }
   ],
   "source": [
    "marsData"
   ]
  },
  {
   "cell_type": "code",
   "execution_count": 198,
   "metadata": {},
   "outputs": [],
   "source": [
    "from urllib.request import urlopen as uReq\n",
    "from bs4 import BeautifulSoup as bs\n",
    "import time\n",
    "import re\n",
    "\n",
    "url = \"https://twitter.com/marswxreport?lang=en\"\n",
    "uClient = uReq(url)\n",
    "html = uClient.read()\n",
    "uClient.close()\n",
    "\n",
    "soup = bs(html, \"html.parser\")\n",
    "\n",
    "mars_weather = soup.find(\"div\",{\"class\":\"content\"})\n",
    "mars_weather_clean = re.sub(r'(\\s+|\\n+|InSight|pic.twitter.com/J9DKptw2oo)', ' ', mars_weather.p.text)\n"
   ]
  },
  {
   "cell_type": "code",
   "execution_count": 199,
   "metadata": {},
   "outputs": [
    {
     "data": {
      "text/plain": [
       "'  sol 373 (2019-12-14) low -98.1ºC (-144.6ºF) high -20.1ºC (-4.1ºF) winds from the SW at 4.9 m/s (11.1 mph) gusting to 19.7 m/s (44.0 mph) pressure at 6.60 hPa '"
      ]
     },
     "execution_count": 199,
     "metadata": {},
     "output_type": "execute_result"
    }
   ],
   "source": [
    "mars_weather_clean"
   ]
  },
  {
   "cell_type": "code",
   "execution_count": 255,
   "metadata": {
    "scrolled": true
   },
   "outputs": [],
   "source": [
    "from urllib.request import urlopen as uReq\n",
    "from bs4 import BeautifulSoup as bs\n",
    "import time\n",
    "import re\n",
    "\n",
    "url = \"https://space-facts.com/mars/\"\n",
    "uClient = uReq(url)\n",
    "html = uClient.read()\n",
    "uClient.close()\n",
    "\n",
    "soup = bs(html, \"html.parser\")\n",
    "\n",
    "table_facts = soup.find(\"table\",{\"class\":\"tablepress\"})\n",
    "rows = table_facts.findAll(\"td\")\n",
    "\n",
    "data = []\n",
    "for row in rows:\n",
    "    name=row.text\n",
    "    data.append(name)\n",
    "    \n",
    "title = [] \n",
    "value = [] \n",
    "for i in range(0, len(data)): \n",
    "    if i % 2: \n",
    "        value.append(data[i]) \n",
    "    else : \n",
    "        title.append(data[i]) \n",
    "dict_data = {\"title\":title,\"value\":value}\n",
    "import pandas as pd\n",
    "data_df = pd.DataFrame.from_dict(dict_data)\n",
    "html_table=data_df.to_html(header=False, index=False, table_id=None)\n",
    "html_table = re.sub(r'(\\s+|\\n)', ' ', html_table)"
   ]
  },
  {
   "cell_type": "code",
   "execution_count": 256,
   "metadata": {
    "scrolled": true
   },
   "outputs": [
    {
     "data": {
      "text/plain": [
       "'<table border=\"1\" class=\"dataframe\"> <tbody> <tr> <td>Equatorial Diameter:</td> <td>6,792 km</td> </tr> <tr> <td>Polar Diameter:</td> <td>6,752 km</td> </tr> <tr> <td>Mass:</td> <td>6.39 × 10^23 kg (0.11 Earths)</td> </tr> <tr> <td>Moons:</td> <td>2 (Phobos &amp; Deimos)</td> </tr> <tr> <td>Orbit Distance:</td> <td>227,943,824 km (1.38 AU)</td> </tr> <tr> <td>Orbit Period:</td> <td>687 days (1.9 years)</td> </tr> <tr> <td>Surface Temperature:</td> <td>-87 to -5 °C</td> </tr> <tr> <td>First Record:</td> <td>2nd millennium BC</td> </tr> <tr> <td>Recorded By:</td> <td>Egyptian astronomers</td> </tr> </tbody> </table>'"
      ]
     },
     "execution_count": 256,
     "metadata": {},
     "output_type": "execute_result"
    }
   ],
   "source": [
    "html_table"
   ]
  },
  {
   "cell_type": "code",
   "execution_count": 259,
   "metadata": {
    "scrolled": true
   },
   "outputs": [
    {
     "data": {
      "text/plain": [
       "[{'image': 'http://astropedia.astrogeology.usgs.gov/download/Mars/Viking/cerberus_enhanced.tif/full.jpg',\n",
       "  'title': 'Cerberus Hemisphere Enhanced'},\n",
       " {'image': 'http://astropedia.astrogeology.usgs.gov/download/Mars/Viking/schiaparelli_enhanced.tif/full.jpg',\n",
       "  'title': 'Schiaparelli Hemisphere Enhanced'},\n",
       " {'image': 'http://astropedia.astrogeology.usgs.gov/download/Mars/Viking/syrtis_major_enhanced.tif/full.jpg',\n",
       "  'title': 'Syrtis Major Hemisphere Enhanced'},\n",
       " {'image': 'http://astropedia.astrogeology.usgs.gov/download/Mars/Viking/valles_marineris_enhanced.tif/full.jpg',\n",
       "  'title': 'Valles Marineris Hemisphere Enhanced'}]"
      ]
     },
     "execution_count": 259,
     "metadata": {},
     "output_type": "execute_result"
    }
   ],
   "source": [
    "from urllib.request import urlopen as uReq\n",
    "from bs4 import BeautifulSoup as bs\n",
    "import time\n",
    "import re\n",
    "\n",
    "def init_browser():\n",
    "    # @NOTE: Replace the path with your actual path to the chromedriver\n",
    "    executable_path = {\"executable_path\": \"/usr/local/bin/chromedriver\"}\n",
    "    return Browser(\"chrome\", **executable_path, headless=False)\n",
    "\n",
    "browser = init_browser()\n",
    "hemisphere =[]\n",
    "hemisphere_list=['Cerberus','Schiaparelli','Syrtis','Valles']\n",
    "for hemi in hemisphere_list:\n",
    "    hemispheres={}\n",
    "    url = 'https://astrogeology.usgs.gov/search/results?q=hemisphere+enhanced&k1=target&v1=Mars'\n",
    "    browser.visit(url)\n",
    "    html = browser.html\n",
    "    soup = bs(html,'html.parser')\n",
    "    browser.click_link_by_partial_text(hemi)\n",
    "    html = browser.html\n",
    "    soup = bs(html,'html.parser')\n",
    "    hemispheres['image']=soup.find('a',target=\"_blank\")['href']\n",
    "    hemispheres['title']=soup.find('h2',class_=\"title\").text\n",
    "    hemisphere.append(hemispheres)\n",
    "\n",
    "hemisphere"
   ]
  },
  {
   "cell_type": "code",
   "execution_count": 265,
   "metadata": {},
   "outputs": [],
   "source": [
    "def init_browser():\n",
    "    # @NOTE: Replace the path with your actual path to the chromedriver\n",
    "    executable_path = {\"executable_path\": \"/usr/local/bin/chromedriver\"}\n",
    "    return Browser(\"chrome\", **executable_path, headless=False)\n",
    "\n",
    "\n",
    "def scrape_info():\n",
    "    browser = init_browser()\n",
    "\n",
    "    # Visit mars\n",
    "    url_base = \"https://mars.nasa.gov/\"\n",
    "    url = \"https://mars.nasa.gov/news/?page=0&per_page=40&order=publish_date+desc%2Ccreated_at+desc&search=&category=19%2C165%2C184%2C204&blank_scope=Latest\"\n",
    "    browser.visit(url)\n",
    "\n",
    "    time.sleep(1)\n",
    "\n",
    "    # Scrape page into Soup\n",
    "    html = browser.html\n",
    "    soup = bs(html, \"html.parser\")\n",
    "\n",
    "    news_title = soup.findAll(\"div\",{\"class\":\"content_title\"})[0].text.strip(' \\t\\n')\n",
    "    news_p = soup.findAll(\"div\",{\"class\":\"rollover_description\"})[0].text.strip(' \\t\\n')\n",
    "    image = soup.findAll(\"img\")\n",
    "    relative_image_path = image[2][\"img-lazy\"]\n",
    "    sloth_img = url_base + relative_image_path\n",
    "    nasaData = {\n",
    "        \"sloth_img\": sloth_img,\n",
    "        \"news_title\": news_title,\n",
    "        \"news_teaser\": news_p\n",
    "    }\n",
    "    # Close the browser after scraping\n",
    "    browser.quit()\n",
    "\n",
    "    # Return results\n",
    "    return nasaData"
   ]
  },
  {
   "cell_type": "code",
   "execution_count": 266,
   "metadata": {},
   "outputs": [
    {
     "ename": "KeyError",
     "evalue": "'data-lazy'",
     "output_type": "error",
     "traceback": [
      "\u001b[0;31m---------------------------------------------------------------------------\u001b[0m",
      "\u001b[0;31mKeyError\u001b[0m                                  Traceback (most recent call last)",
      "\u001b[0;32m<ipython-input-266-c6accd585bc4>\u001b[0m in \u001b[0;36m<module>\u001b[0;34m\u001b[0m\n\u001b[0;32m----> 1\u001b[0;31m \u001b[0mscrape_info\u001b[0m\u001b[0;34m(\u001b[0m\u001b[0;34m)\u001b[0m\u001b[0;34m\u001b[0m\u001b[0;34m\u001b[0m\u001b[0m\n\u001b[0m",
      "\u001b[0;32m<ipython-input-265-be9c37fb6244>\u001b[0m in \u001b[0;36mscrape_info\u001b[0;34m()\u001b[0m\n\u001b[1;32m     22\u001b[0m     \u001b[0mnews_p\u001b[0m \u001b[0;34m=\u001b[0m \u001b[0msoup\u001b[0m\u001b[0;34m.\u001b[0m\u001b[0mfindAll\u001b[0m\u001b[0;34m(\u001b[0m\u001b[0;34m\"div\"\u001b[0m\u001b[0;34m,\u001b[0m\u001b[0;34m{\u001b[0m\u001b[0;34m\"class\"\u001b[0m\u001b[0;34m:\u001b[0m\u001b[0;34m\"rollover_description\"\u001b[0m\u001b[0;34m}\u001b[0m\u001b[0;34m)\u001b[0m\u001b[0;34m[\u001b[0m\u001b[0;36m0\u001b[0m\u001b[0;34m]\u001b[0m\u001b[0;34m.\u001b[0m\u001b[0mtext\u001b[0m\u001b[0;34m.\u001b[0m\u001b[0mstrip\u001b[0m\u001b[0;34m(\u001b[0m\u001b[0;34m' \\t\\n'\u001b[0m\u001b[0;34m)\u001b[0m\u001b[0;34m\u001b[0m\u001b[0;34m\u001b[0m\u001b[0m\n\u001b[1;32m     23\u001b[0m     \u001b[0mimage\u001b[0m \u001b[0;34m=\u001b[0m \u001b[0msoup\u001b[0m\u001b[0;34m.\u001b[0m\u001b[0mfindAll\u001b[0m\u001b[0;34m(\u001b[0m\u001b[0;34m\"img\"\u001b[0m\u001b[0;34m)\u001b[0m\u001b[0;34m\u001b[0m\u001b[0;34m\u001b[0m\u001b[0m\n\u001b[0;32m---> 24\u001b[0;31m     \u001b[0mrelative_image_path\u001b[0m \u001b[0;34m=\u001b[0m \u001b[0mimage\u001b[0m\u001b[0;34m[\u001b[0m\u001b[0;36m2\u001b[0m\u001b[0;34m]\u001b[0m\u001b[0;34m[\u001b[0m\u001b[0;34m\"data-lazy\"\u001b[0m\u001b[0;34m]\u001b[0m\u001b[0;34m\u001b[0m\u001b[0;34m\u001b[0m\u001b[0m\n\u001b[0m\u001b[1;32m     25\u001b[0m     \u001b[0msloth_img\u001b[0m \u001b[0;34m=\u001b[0m \u001b[0murl_base\u001b[0m \u001b[0;34m+\u001b[0m \u001b[0mrelative_image_path\u001b[0m\u001b[0;34m\u001b[0m\u001b[0;34m\u001b[0m\u001b[0m\n\u001b[1;32m     26\u001b[0m     nasaData = {\n",
      "\u001b[0;32m~/anaconda3/envs/PythonData/lib/python3.6/site-packages/bs4/element.py\u001b[0m in \u001b[0;36m__getitem__\u001b[0;34m(self, key)\u001b[0m\n\u001b[1;32m    969\u001b[0m         \"\"\"tag[key] returns the value of the 'key' attribute for the tag,\n\u001b[1;32m    970\u001b[0m         and throws an exception if it's not there.\"\"\"\n\u001b[0;32m--> 971\u001b[0;31m         \u001b[0;32mreturn\u001b[0m \u001b[0mself\u001b[0m\u001b[0;34m.\u001b[0m\u001b[0mattrs\u001b[0m\u001b[0;34m[\u001b[0m\u001b[0mkey\u001b[0m\u001b[0;34m]\u001b[0m\u001b[0;34m\u001b[0m\u001b[0;34m\u001b[0m\u001b[0m\n\u001b[0m\u001b[1;32m    972\u001b[0m \u001b[0;34m\u001b[0m\u001b[0m\n\u001b[1;32m    973\u001b[0m     \u001b[0;32mdef\u001b[0m \u001b[0m__iter__\u001b[0m\u001b[0;34m(\u001b[0m\u001b[0mself\u001b[0m\u001b[0;34m)\u001b[0m\u001b[0;34m:\u001b[0m\u001b[0;34m\u001b[0m\u001b[0;34m\u001b[0m\u001b[0m\n",
      "\u001b[0;31mKeyError\u001b[0m: 'data-lazy'"
     ]
    }
   ],
   "source": [
    "scrape_info()"
   ]
  }
 ],
 "metadata": {
  "kernelspec": {
   "display_name": "Python 3",
   "language": "python",
   "name": "python3"
  },
  "language_info": {
   "codemirror_mode": {
    "name": "ipython",
    "version": 3
   },
   "file_extension": ".py",
   "mimetype": "text/x-python",
   "name": "python",
   "nbconvert_exporter": "python",
   "pygments_lexer": "ipython3",
   "version": "3.6.9"
  }
 },
 "nbformat": 4,
 "nbformat_minor": 2
}
